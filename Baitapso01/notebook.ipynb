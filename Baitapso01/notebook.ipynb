{
 "cells": [
  {
   "cell_type": "code",
   "execution_count": null,
   "id": "8a16648f",
   "metadata": {},
   "outputs": [
    {
     "name": "stdout",
     "output_type": "stream",
     "text": [
      "n = 265\n",
      "Trung binh mau X = 6.39 gio\n",
      "Phuong sai mau hieu chinh Y = 7.25 gio^2\n"
     ]
    }
   ],
   "source": [
    "import pandas as pd\n",
    "\n",
    "CSV_PATH = \"smartphone_usage_time.csv\"\n",
    "TIME_COL = \"Thoi gian trung binh su dung\"\n",
    "\n",
    "df = pd.read_csv(CSV_PATH, encoding=\"utf-8\")\n",
    "\n",
    "td = pd.to_timedelta(df[TIME_COL], errors=\"coerce\")\n",
    "\n",
    "hours = td.dt.total_seconds() / 3600\n",
    "hours = hours.dropna()\n",
    "\n",
    "sample_mean = hours.mean()\n",
    "sample_variance_unbiased = hours.var(ddof=1)\n",
    "n = hours.shape[0]\n",
    "print(f\"n = {n}\")\n",
    "print(f\"Trung binh mau X = {sample_mean:.2f} gio\")\n",
    "print(f\"Phuong sai mau hieu chinh Y = {sample_variance_unbiased:.2f} gio^2\")\n"
   ]
  },
  {
   "cell_type": "code",
   "execution_count": 4,
   "id": "82a0b7ac",
   "metadata": {},
   "outputs": [],
   "source": [
    "def z_score(series: pd.Series):\n",
    "    mu = series.mean()\n",
    "    sigma = series.std(ddof=1)\n",
    "    return (series - mu) / sigma\n",
    "df['gio'] = td.dt.total_seconds() / 3600\n",
    "valid = df['gio'].notna()\n",
    "df.loc[valid, \"gio_zscore\"] = z_score(df.loc[valid, 'gio'])\n",
    "df_fmt = df.copy()\n",
    "df_out = df_fmt.head(5)\n",
    "latex = df_out.to_latex(index=False, escape=False)  \n",
    "with open(\"summary.tex\", \"w\", encoding=\"utf-8\") as f:\n",
    "    f.write(latex)"
   ]
  },
  {
   "cell_type": "code",
   "execution_count": 5,
   "id": "a7930213",
   "metadata": {},
   "outputs": [
    {
     "ename": "NameError",
     "evalue": "name 'n' is not defined",
     "output_type": "error",
     "traceback": [
      "\u001b[31m---------------------------------------------------------------------------\u001b[39m",
      "\u001b[31mNameError\u001b[39m                                 Traceback (most recent call last)",
      "\u001b[36mCell\u001b[39m\u001b[36m \u001b[39m\u001b[32mIn[5]\u001b[39m\u001b[32m, line 4\u001b[39m\n\u001b[32m      2\u001b[39m \u001b[38;5;28;01mimport\u001b[39;00m \u001b[34;01mnumpy\u001b[39;00m \u001b[38;5;28;01mas\u001b[39;00m \u001b[34;01mnp\u001b[39;00m\n\u001b[32m      3\u001b[39m sample_std_unbiased = np.sqrt(sample_variance_unbiased)\n\u001b[32m----> \u001b[39m\u001b[32m4\u001b[39m standard_error_mean = sample_std_unbiased / np.sqrt(\u001b[43mn\u001b[49m)\n\u001b[32m      5\u001b[39m ci_low, ci_high = st.t.interval(confidence=\u001b[32m0.95\u001b[39m, df=num_sample-\u001b[32m1\u001b[39m, loc=sample_mean, scale=standard_error_mean)\n\u001b[32m      6\u001b[39m \u001b[38;5;28mprint\u001b[39m(\u001b[33mf\u001b[39m\u001b[33m\"\u001b[39m\u001b[33mKhoang tin cay 95% cho ky vong: [\u001b[39m\u001b[38;5;132;01m{\u001b[39;00mci_low\u001b[38;5;132;01m:\u001b[39;00m\u001b[33m.6f\u001b[39m\u001b[38;5;132;01m}\u001b[39;00m\u001b[33m, \u001b[39m\u001b[38;5;132;01m{\u001b[39;00mci_high\u001b[38;5;132;01m:\u001b[39;00m\u001b[33m.6f\u001b[39m\u001b[38;5;132;01m}\u001b[39;00m\u001b[33m] gio\u001b[39m\u001b[33m\"\u001b[39m)\n",
      "\u001b[31mNameError\u001b[39m: name 'n' is not defined"
     ]
    }
   ],
   "source": [
    "import scipy.stats as st\n",
    "import numpy as np\n",
    "sample_std_unbiased = np.sqrt(sample_variance_unbiased)\n",
    "standard_error_mean = sample_std_unbiased / np.sqrt(n)\n",
    "ci_low, ci_high = st.t.interval(confidence=0.95, df=num_sample-1, loc=sample_mean, scale=standard_error_mean)\n",
    "print(f\"Khoang tin cay 95% cho ky vong: [{ci_low:.6f}, {ci_high:.6f}] gio\")"
   ]
  },
  {
   "cell_type": "code",
   "execution_count": 41,
   "id": "a5639822",
   "metadata": {},
   "outputs": [
    {
     "name": "stdout",
     "output_type": "stream",
     "text": [
      "z_qs = -5.492302\n",
      "p-value (one-sided, H1: mu < 7.3) = 1.983637e-08\n",
      "Ket luan o muc y nghia 5%: Bac bo H0\n",
      "t_qs = -5.492302\n",
      "p-value (one-sided, H1: mu < 7.3) = 4.662221e-08\n",
      "Ket luan o muc y nghia 5%: Bac bo H0\n"
     ]
    }
   ],
   "source": [
    "mu0 = 7.3\n",
    "alpha = 0.05\n",
    "\n",
    "z_qs = ((sample_mean - mu0) / sample_std_unbiased) * np.sqrt(n)\n",
    "p_value_z = st.norm.cdf(z_qs)\n",
    "reject_z = p_value_z < alpha\n",
    "\n",
    "print(f\"z_qs = {z_qs:.6f}\")\n",
    "print(f\"p-value (one-sided, H1: mu < {mu0}) = {p_value_z:.6e}\")\n",
    "print(f\"Ket luan o muc y nghia {alpha*100:.0f}%: \" + (\"Bac bo H0\" if reject_z else \"Khong bac bo H0\"))\n",
    "\n",
    "res = st.ttest_1samp(hours, popmean=mu0, alternative=\"less\")  # SciPy >= 1.9\n",
    "t_qs = float(res.statistic)\n",
    "p_value_t = float(res.pvalue)\n",
    "reject_t = p_value_t < alpha\n",
    "\n",
    "print(f\"t_qs = {t_qs:.6f}\")\n",
    "print(f\"p-value (one-sided, H1: mu < {mu0}) = {p_value_t:.6e}\")\n",
    "print(f\"Ket luan o muc y nghia {alpha*100:.0f}%: \" + (\"Bac bo H0\" if reject_t else \"Khong bac bo H0\"))\n"
   ]
  },
  {
   "cell_type": "code",
   "execution_count": null,
   "id": "2bd9838b",
   "metadata": {},
   "outputs": [],
   "source": []
  }
 ],
 "metadata": {
  "kernelspec": {
   "display_name": "Python 3",
   "language": "python",
   "name": "python3"
  },
  "language_info": {
   "codemirror_mode": {
    "name": "ipython",
    "version": 3
   },
   "file_extension": ".py",
   "mimetype": "text/x-python",
   "name": "python",
   "nbconvert_exporter": "python",
   "pygments_lexer": "ipython3",
   "version": "3.11.13"
  }
 },
 "nbformat": 4,
 "nbformat_minor": 5
}
