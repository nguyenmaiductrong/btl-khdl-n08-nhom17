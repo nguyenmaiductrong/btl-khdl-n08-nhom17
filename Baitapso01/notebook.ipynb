{
 "cells": [
  {
   "cell_type": "markdown",
   "id": "c29ae738",
   "metadata": {},
   "source": [
    "# Sử dụng thư viện Scipy"
   ]
  },
  {
   "cell_type": "markdown",
   "id": "f19bc18d",
   "metadata": {},
   "source": [
    "## Bước 1. Tính trung bình mẫu và phương sai mẫu hiệu chỉnh"
   ]
  },
  {
   "cell_type": "code",
   "execution_count": 6,
   "id": "8a16648f",
   "metadata": {},
   "outputs": [
    {
     "name": "stdout",
     "output_type": "stream",
     "text": [
      "n = 265\n",
      "Trung binh mau X = 6.39 gio\n",
      "Phuong sai mau hieu chinh Y = 7.25 gio^2\n"
     ]
    }
   ],
   "source": [
    "import pandas as pd\n",
    "\n",
    "CSV_PATH = \"smartphone_usage_time.csv\"\n",
    "TIME_COL = \"Thoi gian trung binh su dung\"\n",
    "\n",
    "df = pd.read_csv(CSV_PATH, encoding=\"utf-8\")\n",
    "\n",
    "td = pd.to_timedelta(df[TIME_COL], errors=\"coerce\")\n",
    "\n",
    "hours = td.dt.total_seconds() / 3600\n",
    "hours = hours.dropna()\n",
    "\n",
    "sample_mean = hours.mean()\n",
    "sample_variance_unbiased = hours.var(ddof=1)\n",
    "n = hours.shape[0]\n",
    "print(f\"n = {n}\")\n",
    "print(f\"Trung binh mau X = {sample_mean:.2f} gio\")\n",
    "print(f\"Phuong sai mau hieu chinh Y = {sample_variance_unbiased:.2f} gio^2\")\n"
   ]
  },
  {
   "cell_type": "markdown",
   "id": "c58d2393",
   "metadata": {},
   "source": [
    "## Bước 2. Chuẩn hoá dữ liệu bằng z - score"
   ]
  },
  {
   "cell_type": "code",
   "execution_count": 10,
   "id": "82a0b7ac",
   "metadata": {},
   "outputs": [
    {
     "data": {
      "text/html": [
       "<div>\n",
       "<style scoped>\n",
       "    .dataframe tbody tr th:only-of-type {\n",
       "        vertical-align: middle;\n",
       "    }\n",
       "\n",
       "    .dataframe tbody tr th {\n",
       "        vertical-align: top;\n",
       "    }\n",
       "\n",
       "    .dataframe thead th {\n",
       "        text-align: right;\n",
       "    }\n",
       "</style>\n",
       "<table border=\"1\" class=\"dataframe\">\n",
       "  <thead>\n",
       "    <tr style=\"text-align: right;\">\n",
       "      <th></th>\n",
       "      <th>Timestamp</th>\n",
       "      <th>STT</th>\n",
       "      <th>Ho va ten</th>\n",
       "      <th>Tuoi</th>\n",
       "      <th>Thoi gian trung binh su dung</th>\n",
       "      <th>gio</th>\n",
       "      <th>gio_zscore</th>\n",
       "    </tr>\n",
       "  </thead>\n",
       "  <tbody>\n",
       "    <tr>\n",
       "      <th>0</th>\n",
       "      <td>9/8/2025 14:21:05</td>\n",
       "      <td>1</td>\n",
       "      <td>Nguyễn Mai Đức Trọng</td>\n",
       "      <td>21</td>\n",
       "      <td>2:54:00</td>\n",
       "      <td>2.900000</td>\n",
       "      <td>-1.296602</td>\n",
       "    </tr>\n",
       "    <tr>\n",
       "      <th>1</th>\n",
       "      <td>9/8/2025 14:26:10</td>\n",
       "      <td>2</td>\n",
       "      <td>Phạm Minh Hằng</td>\n",
       "      <td>19</td>\n",
       "      <td>3:40:00</td>\n",
       "      <td>3.666667</td>\n",
       "      <td>-1.011891</td>\n",
       "    </tr>\n",
       "    <tr>\n",
       "      <th>2</th>\n",
       "      <td>9/8/2025 14:36:56</td>\n",
       "      <td>3</td>\n",
       "      <td>Trần Anh Dũng</td>\n",
       "      <td>21</td>\n",
       "      <td>7:17:00</td>\n",
       "      <td>7.283333</td>\n",
       "      <td>0.331200</td>\n",
       "    </tr>\n",
       "    <tr>\n",
       "      <th>3</th>\n",
       "      <td>9/8/2025 14:37:55</td>\n",
       "      <td>4</td>\n",
       "      <td>Phạm Nguyễn Mai Thương</td>\n",
       "      <td>20</td>\n",
       "      <td>5:41:00</td>\n",
       "      <td>5.683333</td>\n",
       "      <td>-0.262979</td>\n",
       "    </tr>\n",
       "    <tr>\n",
       "      <th>4</th>\n",
       "      <td>9/8/2025 14:40:00</td>\n",
       "      <td>5</td>\n",
       "      <td>Nguyễn Thế Chiến</td>\n",
       "      <td>20</td>\n",
       "      <td>12:38:00</td>\n",
       "      <td>12.633333</td>\n",
       "      <td>2.317985</td>\n",
       "    </tr>\n",
       "    <tr>\n",
       "      <th>...</th>\n",
       "      <td>...</td>\n",
       "      <td>...</td>\n",
       "      <td>...</td>\n",
       "      <td>...</td>\n",
       "      <td>...</td>\n",
       "      <td>...</td>\n",
       "      <td>...</td>\n",
       "    </tr>\n",
       "    <tr>\n",
       "      <th>260</th>\n",
       "      <td>9/14/2025 16:53:11</td>\n",
       "      <td>261</td>\n",
       "      <td>Nguyễn Vũ Quang Anh</td>\n",
       "      <td>21</td>\n",
       "      <td>6:15:00</td>\n",
       "      <td>6.250000</td>\n",
       "      <td>-0.052540</td>\n",
       "    </tr>\n",
       "    <tr>\n",
       "      <th>261</th>\n",
       "      <td>9/14/2025 16:53:39</td>\n",
       "      <td>262</td>\n",
       "      <td>Phạm Quang Trưởng Anh</td>\n",
       "      <td>21</td>\n",
       "      <td>8:15:00</td>\n",
       "      <td>8.250000</td>\n",
       "      <td>0.690183</td>\n",
       "    </tr>\n",
       "    <tr>\n",
       "      <th>262</th>\n",
       "      <td>9/14/2025 16:53:58</td>\n",
       "      <td>263</td>\n",
       "      <td>Phạm Viết Quốc Anh</td>\n",
       "      <td>21</td>\n",
       "      <td>7:35:00</td>\n",
       "      <td>7.583333</td>\n",
       "      <td>0.442609</td>\n",
       "    </tr>\n",
       "    <tr>\n",
       "      <th>263</th>\n",
       "      <td>9/14/2025 16:54:18</td>\n",
       "      <td>264</td>\n",
       "      <td>Phạm Tiến Vượng</td>\n",
       "      <td>21</td>\n",
       "      <td>9:10:00</td>\n",
       "      <td>9.166667</td>\n",
       "      <td>1.030598</td>\n",
       "    </tr>\n",
       "    <tr>\n",
       "      <th>264</th>\n",
       "      <td>9/14/2025 16:54:33</td>\n",
       "      <td>265</td>\n",
       "      <td>Nguyễn Văn Vượng</td>\n",
       "      <td>21</td>\n",
       "      <td>8:45:00</td>\n",
       "      <td>8.750000</td>\n",
       "      <td>0.875864</td>\n",
       "    </tr>\n",
       "  </tbody>\n",
       "</table>\n",
       "<p>265 rows × 7 columns</p>\n",
       "</div>"
      ],
      "text/plain": [
       "              Timestamp  STT               Ho va ten  Tuoi  \\\n",
       "0     9/8/2025 14:21:05    1    Nguyễn Mai Đức Trọng    21   \n",
       "1     9/8/2025 14:26:10    2          Phạm Minh Hằng    19   \n",
       "2     9/8/2025 14:36:56    3           Trần Anh Dũng    21   \n",
       "3     9/8/2025 14:37:55    4  Phạm Nguyễn Mai Thương    20   \n",
       "4     9/8/2025 14:40:00    5        Nguyễn Thế Chiến    20   \n",
       "..                  ...  ...                     ...   ...   \n",
       "260  9/14/2025 16:53:11  261     Nguyễn Vũ Quang Anh    21   \n",
       "261  9/14/2025 16:53:39  262   Phạm Quang Trưởng Anh    21   \n",
       "262  9/14/2025 16:53:58  263      Phạm Viết Quốc Anh    21   \n",
       "263  9/14/2025 16:54:18  264         Phạm Tiến Vượng    21   \n",
       "264  9/14/2025 16:54:33  265        Nguyễn Văn Vượng    21   \n",
       "\n",
       "    Thoi gian trung binh su dung        gio  gio_zscore  \n",
       "0                        2:54:00   2.900000   -1.296602  \n",
       "1                        3:40:00   3.666667   -1.011891  \n",
       "2                        7:17:00   7.283333    0.331200  \n",
       "3                        5:41:00   5.683333   -0.262979  \n",
       "4                       12:38:00  12.633333    2.317985  \n",
       "..                           ...        ...         ...  \n",
       "260                      6:15:00   6.250000   -0.052540  \n",
       "261                      8:15:00   8.250000    0.690183  \n",
       "262                      7:35:00   7.583333    0.442609  \n",
       "263                      9:10:00   9.166667    1.030598  \n",
       "264                      8:45:00   8.750000    0.875864  \n",
       "\n",
       "[265 rows x 7 columns]"
      ]
     },
     "execution_count": 10,
     "metadata": {},
     "output_type": "execute_result"
    }
   ],
   "source": [
    "def z_score(series: pd.Series):\n",
    "    mu = series.mean()\n",
    "    sigma = series.std(ddof=1)\n",
    "    return (series - mu) / sigma\n",
    "df['gio'] = td.dt.total_seconds() / 3600\n",
    "valid = df['gio'].notna()\n",
    "df.loc[valid, \"gio_zscore\"] = z_score(df.loc[valid, 'gio'])\n",
    "df_fmt = df.copy()\n",
    "df_out = df_fmt.head(5)\n",
    "df"
   ]
  },
  {
   "cell_type": "markdown",
   "id": "36fcf148",
   "metadata": {},
   "source": [
    "## Bước 3. Ước lượng kỳ vọng bằng khoảng tin cậy 95%"
   ]
  },
  {
   "cell_type": "code",
   "execution_count": 15,
   "id": "36a99d55",
   "metadata": {},
   "outputs": [
    {
     "name": "stdout",
     "output_type": "stream",
     "text": [
      "Defaulting to user installation because normal site-packages is not writeable\n",
      "Requirement already satisfied: scipy in /home/nmdt/.local/lib/python3.11/site-packages (1.16.2)\n",
      "Requirement already satisfied: numpy<2.6,>=1.25.2 in /home/nmdt/.local/lib/python3.11/site-packages (from scipy) (2.3.3)\n",
      "Note: you may need to restart the kernel to use updated packages.\n"
     ]
    }
   ],
   "source": [
    "pip install scipy"
   ]
  },
  {
   "cell_type": "code",
   "execution_count": 8,
   "id": "a7930213",
   "metadata": {},
   "outputs": [
    {
     "name": "stdout",
     "output_type": "stream",
     "text": [
      "Khoang tin cay 95% cho ky vong: [6.065776, 6.717184] gio\n"
     ]
    }
   ],
   "source": [
    "import scipy.stats as st\n",
    "import numpy as np\n",
    "sample_std_unbiased = np.sqrt(sample_variance_unbiased)\n",
    "standard_error_mean = sample_std_unbiased / np.sqrt(n)\n",
    "ci_low, ci_high = st.t.interval(confidence=0.95, df=num_sample-1, loc=sample_mean, scale=standard_error_mean)\n",
    "print(f\"Khoang tin cay 95% cho ky vong: [{ci_low:.6f}, {ci_high:.6f}] gio\")"
   ]
  },
  {
   "cell_type": "markdown",
   "id": "d44414fe",
   "metadata": {},
   "source": [
    "## Bước 4. Kiểm định giả thuyết thống kê cho kỳ vọng với mức ý nghĩa 5\\%"
   ]
  },
  {
   "cell_type": "code",
   "execution_count": 9,
   "id": "a5639822",
   "metadata": {},
   "outputs": [
    {
     "name": "stdout",
     "output_type": "stream",
     "text": [
      "z_qs = -5.492302\n",
      "p-value (one-sided, H1: mu < 7.3) = 1.983637e-08\n",
      "Ket luan o muc y nghia 5%: Bac bo H0\n",
      "t_qs = -5.492302\n",
      "p-value (one-sided, H1: mu < 7.3) = 4.662221e-08\n",
      "Ket luan o muc y nghia 5%: Bac bo H0\n"
     ]
    }
   ],
   "source": [
    "mu0 = 7.3\n",
    "alpha = 0.05\n",
    "\n",
    "z_qs = ((sample_mean - mu0) / sample_std_unbiased) * np.sqrt(n)\n",
    "p_value_z = st.norm.cdf(z_qs)\n",
    "reject_z = p_value_z < alpha\n",
    "\n",
    "print(f\"z_qs = {z_qs:.6f}\")\n",
    "print(f\"p-value (one-sided, H1: mu < {mu0}) = {p_value_z:.6e}\")\n",
    "print(f\"Ket luan o muc y nghia {alpha*100:.0f}%: \" + (\"Bac bo H0\" if reject_z else \"Khong bac bo H0\"))\n",
    "\n",
    "res = st.ttest_1samp(hours, popmean=mu0, alternative=\"less\")  # SciPy >= 1.9\n",
    "t_qs = float(res.statistic)\n",
    "p_value_t = float(res.pvalue)\n",
    "reject_t = p_value_t < alpha\n",
    "\n",
    "print(f\"t_qs = {t_qs:.6f}\")\n",
    "print(f\"p-value (one-sided, H1: mu < {mu0}) = {p_value_t:.6e}\")\n",
    "print(f\"Ket luan o muc y nghia {alpha*100:.0f}%: \" + (\"Bac bo H0\" if reject_t else \"Khong bac bo H0\"))\n"
   ]
  },
  {
   "cell_type": "markdown",
   "id": "66c96ec6",
   "metadata": {},
   "source": [
    "# Sử dụng thư viện Statsmodels"
   ]
  },
  {
   "cell_type": "markdown",
   "id": "f0ce3926",
   "metadata": {},
   "source": [
    "## Bước 1. Tính trung bình mẫu và phương sai mẫu hiệu chỉnh"
   ]
  },
  {
   "cell_type": "code",
   "execution_count": 11,
   "id": "2bd9838b",
   "metadata": {},
   "outputs": [
    {
     "name": "stdout",
     "output_type": "stream",
     "text": [
      "n = 265\n",
      "Trung binh mau = 6.39 gio\n",
      "Phuong sai mau hieu chinh = 7.25 gio^2\n"
     ]
    }
   ],
   "source": [
    "import pandas as pd\n",
    "import numpy as np\n",
    "\n",
    "CSV_PATH = \"smartphone_usage_time.csv\"\n",
    "\n",
    "df = pd.read_csv(CSV_PATH, encoding=\"utf-8\")\n",
    "\n",
    "td = pd.to_timedelta(df[\"Thoi gian trung binh su dung\"], errors=\"coerce\")\n",
    "hours = td.dt.total_seconds() / 3600\n",
    "hours = hours.dropna()\n",
    "\n",
    "n = hours.shape[0]\n",
    "sample_mean = hours.mean()\n",
    "sample_var = hours.var(ddof=1)\n",
    "sample_std = np.sqrt(sample_var)\n",
    "\n",
    "print(f\"n = {n}\")\n",
    "print(f\"Trung binh mau = {sample_mean:.2f} gio\")\n",
    "print(f\"Phuong sai mau hieu chinh = {sample_var:.2f} gio^2\")"
   ]
  },
  {
   "cell_type": "markdown",
   "id": "03016fff",
   "metadata": {},
   "source": [
    "## Bước 2. Chuẩn hoá dữ liệu bằng z - score"
   ]
  },
  {
   "cell_type": "code",
   "execution_count": 12,
   "id": "ae336c90",
   "metadata": {},
   "outputs": [
    {
     "name": "stdout",
     "output_type": "stream",
     "text": [
      "           Timestamp  STT               Ho va ten  Tuoi  \\\n",
      "0  9/8/2025 14:21:05    1    Nguyễn Mai Đức Trọng    21   \n",
      "1  9/8/2025 14:26:10    2          Phạm Minh Hằng    19   \n",
      "2  9/8/2025 14:36:56    3           Trần Anh Dũng    21   \n",
      "3  9/8/2025 14:37:55    4  Phạm Nguyễn Mai Thương    20   \n",
      "4  9/8/2025 14:40:00    5        Nguyễn Thế Chiến    20   \n",
      "\n",
      "  Thoi gian trung binh su dung        gio  gio_zscore  \n",
      "0                      2:54:00   2.900000   -1.296602  \n",
      "1                      3:40:00   3.666667   -1.011891  \n",
      "2                      7:17:00   7.283333    0.331200  \n",
      "3                      5:41:00   5.683333   -0.262979  \n",
      "4                     12:38:00  12.633333    2.317985  \n"
     ]
    }
   ],
   "source": [
    "df[\"gio\"] = td.dt.total_seconds() / 3600\n",
    "df[\"gio_zscore\"] = (df[\"gio\"] - sample_mean) / sample_std\n",
    "print(df.head())"
   ]
  },
  {
   "cell_type": "markdown",
   "id": "d3f0904e",
   "metadata": {},
   "source": [
    "## Bước 3. Ước lượng kỳ vọng bằng khoảng tin cậy 95%"
   ]
  },
  {
   "cell_type": "code",
   "execution_count": null,
   "id": "dee244ae",
   "metadata": {},
   "outputs": [
    {
     "name": "stdout",
     "output_type": "stream",
     "text": [
      "Defaulting to user installation because normal site-packages is not writeable\n",
      "Collecting statsmodels\n",
      "  Downloading statsmodels-0.14.5-cp311-cp311-manylinux2014_x86_64.manylinux_2_17_x86_64.manylinux_2_28_x86_64.whl.metadata (9.5 kB)\n",
      "Requirement already satisfied: numpy<3,>=1.22.3 in /home/nmdt/.local/lib/python3.11/site-packages (from statsmodels) (2.3.3)\n",
      "Requirement already satisfied: scipy!=1.9.2,>=1.8 in /home/nmdt/.local/lib/python3.11/site-packages (from statsmodels) (1.16.2)\n",
      "Requirement already satisfied: pandas!=2.1.0,>=1.4 in /home/nmdt/.local/lib/python3.11/site-packages (from statsmodels) (2.3.2)\n",
      "Collecting patsy>=0.5.6 (from statsmodels)\n",
      "  Downloading patsy-1.0.1-py2.py3-none-any.whl.metadata (3.3 kB)\n",
      "Requirement already satisfied: packaging>=21.3 in /home/nmdt/.local/lib/python3.11/site-packages (from statsmodels) (25.0)\n",
      "Requirement already satisfied: python-dateutil>=2.8.2 in /usr/lib/python3/dist-packages (from pandas!=2.1.0,>=1.4->statsmodels) (2.8.2)\n",
      "Requirement already satisfied: pytz>=2020.1 in /usr/lib/python3/dist-packages (from pandas!=2.1.0,>=1.4->statsmodels) (2024.1)\n",
      "Requirement already satisfied: tzdata>=2022.7 in /home/nmdt/.local/lib/python3.11/site-packages (from pandas!=2.1.0,>=1.4->statsmodels) (2025.2)\n",
      "Downloading statsmodels-0.14.5-cp311-cp311-manylinux2014_x86_64.manylinux_2_17_x86_64.manylinux_2_28_x86_64.whl (10.5 MB)\n",
      "\u001b[2K   \u001b[90m━━━━━━━━━━━━━━━━━━━━━━━━━━━━━━━━━━━━━━━━\u001b[0m \u001b[32m10.5/10.5 MB\u001b[0m \u001b[31m17.4 MB/s\u001b[0m eta \u001b[36m0:00:00\u001b[0m00:01\u001b[0m0:01\u001b[0m\n",
      "\u001b[?25hDownloading patsy-1.0.1-py2.py3-none-any.whl (232 kB)\n",
      "\u001b[2K   \u001b[90m━━━━━━━━━━━━━━━━━━━━━━━━━━━━━━━━━━━━━━━━\u001b[0m \u001b[32m232.9/232.9 kB\u001b[0m \u001b[31m24.7 MB/s\u001b[0m eta \u001b[36m0:00:00\u001b[0m\n",
      "\u001b[?25hInstalling collected packages: patsy, statsmodels\n",
      "Successfully installed patsy-1.0.1 statsmodels-0.14.5\n",
      "Note: you may need to restart the kernel to use updated packages.\n"
     ]
    }
   ],
   "source": [
    "pip install statsmodels"
   ]
  },
  {
   "cell_type": "code",
   "execution_count": 16,
   "id": "7eebd309",
   "metadata": {},
   "outputs": [
    {
     "name": "stdout",
     "output_type": "stream",
     "text": [
      "Khoang tin cay 95% cho ky vong: [6.065776, 6.717184] gio\n"
     ]
    }
   ],
   "source": [
    "import statsmodels.api as sm\n",
    "\n",
    "desc = sm.stats.DescrStatsW(hours)\n",
    "\n",
    "ci_low, ci_high = desc.tconfint_mean(alpha=0.05)\n",
    "print(f\"Khoang tin cay 95% cho ky vong: [{ci_low:.6f}, {ci_high:.6f}] gio\")"
   ]
  },
  {
   "cell_type": "markdown",
   "id": "b844207a",
   "metadata": {},
   "source": [
    "## Bước 4. Kiểm định giả thuyết thống kê cho kỳ vọng với mức ý nghĩa 5\\%"
   ]
  },
  {
   "cell_type": "code",
   "execution_count": 17,
   "id": "3f3f1ffa",
   "metadata": {},
   "outputs": [
    {
     "name": "stdout",
     "output_type": "stream",
     "text": [
      "Z_qs = -5.492302\n",
      "p-value (one-sided, H1: mu < 7.3) = 1.983637e-08\n",
      "Ket luan o muc y nghia 5%(z-test): Bac bo H0\n",
      "T_qs = -5.492302, df = 264.0\n",
      "p-value (one-sided, H1: mu < 7.3) = 4.662221e-08\n",
      "Ket luan o muc y nghia 5%(t-test): Bac bo H0\n"
     ]
    }
   ],
   "source": [
    "import statsmodels.api as sm\n",
    "from statsmodels.stats.weightstats import ztest,ttest_ind\n",
    "\n",
    "desc = sm.stats.DescrStatsW(hours)\n",
    "\n",
    "mu0 = 7.3\n",
    "alpha = 0.05\n",
    "\n",
    "z_stat, p_value_z = desc.ztest_mean(value=mu0, alternative=\"smaller\")\n",
    "print(f\"Z_qs = {z_stat:.6f}\")\n",
    "print(f\"p-value (one-sided, H1: mu < {mu0}) = {p_value_z:.6e}\")\n",
    "print(\"Ket luan o muc y nghia 5%(z-test):\", \"Bac bo H0\" if p_value_z < alpha else \"Khong bac bo H0\")\n",
    "\n",
    "t_stat, p_value_t, dfree = desc.ttest_mean(value=mu0, alternative=\"smaller\")\n",
    "print(f\"T_qs = {t_stat:.6f}, df = {dfree}\")\n",
    "print(f\"p-value (one-sided, H1: mu < {mu0}) = {p_value_t:.6e}\")\n",
    "print(\"Ket luan o muc y nghia 5%(t-test):\", \"Bac bo H0\" if p_value_t < alpha else \"Khong bac bo H0\")"
   ]
  }
 ],
 "metadata": {
  "kernelspec": {
   "display_name": "Python 3",
   "language": "python",
   "name": "python3"
  },
  "language_info": {
   "codemirror_mode": {
    "name": "ipython",
    "version": 3
   },
   "file_extension": ".py",
   "mimetype": "text/x-python",
   "name": "python",
   "nbconvert_exporter": "python",
   "pygments_lexer": "ipython3",
   "version": "3.11.13"
  }
 },
 "nbformat": 4,
 "nbformat_minor": 5
}
